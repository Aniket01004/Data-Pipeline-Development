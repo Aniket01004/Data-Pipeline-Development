{
 "cells": [
  {
   "cell_type": "markdown",
   "id": "96cfe184-70ea-41f7-afdd-3141ec33e51b",
   "metadata": {},
   "source": [
    "Step 1:- Importing required libraries"
   ]
  },
  {
   "cell_type": "code",
   "execution_count": 1,
   "id": "4b8f167c-517e-4943-bede-f3982ebe1611",
   "metadata": {},
   "outputs": [],
   "source": [
    "import pandas as pd\n",
    "from sklearn.preprocessing import StandardScaler, OneHotEncoder\n",
    "from sklearn.compose import ColumnTransformer\n",
    "from sklearn.pipeline import Pipeline\n",
    "import joblib"
   ]
  },
  {
   "cell_type": "markdown",
   "id": "6c537e7f-6d90-401b-9500-d7b42e53a713",
   "metadata": {},
   "source": [
    "Step 2:- Loading the dataset"
   ]
  },
  {
   "cell_type": "code",
   "execution_count": 2,
   "id": "3cad0b21-0508-40ad-9ea3-8befde9c9b39",
   "metadata": {},
   "outputs": [
    {
     "name": "stdout",
     "output_type": "stream",
     "text": [
      "   Id  SepalLengthCm  SepalWidthCm  PetalLengthCm  PetalWidthCm      Species\n",
      "0   1            5.1           3.5            1.4           0.2  Iris-setosa\n",
      "1   2            4.9           3.0            1.4           0.2  Iris-setosa\n",
      "2   3            4.7           3.2            1.3           0.2  Iris-setosa\n",
      "3   4            4.6           3.1            1.5           0.2  Iris-setosa\n",
      "4   5            5.0           3.6            1.4           0.2  Iris-setosa\n"
     ]
    }
   ],
   "source": [
    "df = pd.read_csv(\"C:/Users/Aniket Bhoge/Downloads/Compressed/archive/Iris.csv\")\n",
    "print(df.head())"
   ]
  },
  {
   "cell_type": "markdown",
   "id": "a2599125-ef90-4dd4-825c-e7f255679e35",
   "metadata": {},
   "source": [
    "Step 3:- Separating the features and target"
   ]
  },
  {
   "cell_type": "code",
   "execution_count": 4,
   "id": "5fd6e0b8-3348-4e36-895f-9a91ebf1f542",
   "metadata": {},
   "outputs": [],
   "source": [
    "X = df.drop(columns=[\"Species\"])  # Features\n",
    "y = df[\"Species\"]                 # Target"
   ]
  },
  {
   "cell_type": "markdown",
   "id": "7bcd578b-6e48-42d6-aa84-8042b3784785",
   "metadata": {},
   "source": [
    "Step 4:- Identifying numerical and categorical columns"
   ]
  },
  {
   "cell_type": "code",
   "execution_count": 5,
   "id": "328832c9-341e-4e40-a732-6ef956d5dc6a",
   "metadata": {},
   "outputs": [
    {
     "name": "stdout",
     "output_type": "stream",
     "text": [
      "Numeric columns: ['Id', 'SepalLengthCm', 'SepalWidthCm', 'PetalLengthCm', 'PetalWidthCm']\n",
      "Categorical columns: []\n"
     ]
    }
   ],
   "source": [
    "numeric_cols = X.select_dtypes(include=[\"int64\", \"float64\"]).columns\n",
    "categorical_cols = X.select_dtypes(include=[\"object\"]).columns\n",
    "\n",
    "print(\"Numeric columns:\", numeric_cols.tolist())\n",
    "print(\"Categorical columns:\", categorical_cols.tolist())"
   ]
  },
  {
   "cell_type": "markdown",
   "id": "be4393f5-9395-42a2-912f-779e80bbff1b",
   "metadata": {},
   "source": [
    "Step 5: Creating preprocessing pipelines"
   ]
  },
  {
   "cell_type": "code",
   "execution_count": 7,
   "id": "d5699dd7-a7cc-4f5f-b450-38201b817146",
   "metadata": {},
   "outputs": [],
   "source": [
    "from sklearn.impute import SimpleImputer  \n",
    "\n",
    "numeric_pipeline = Pipeline([\n",
    "    (\"scaler\", StandardScaler())\n",
    "])\n",
    "\n",
    "categorical_pipeline = Pipeline([\n",
    "    (\"encoder\", OneHotEncoder(handle_unknown=\"ignore\"))\n",
    "])\n",
    "\n",
    "preprocessor = ColumnTransformer([\n",
    "    (\"num\", numeric_pipeline, numeric_cols),\n",
    "    (\"cat\", categorical_pipeline, categorical_cols)\n",
    "])"
   ]
  },
  {
   "cell_type": "markdown",
   "id": "e920d4e0-ed2e-4870-ba39-f830b6a78263",
   "metadata": {},
   "source": [
    "Step 6:- Fitting and transforming the data"
   ]
  },
  {
   "cell_type": "code",
   "execution_count": 8,
   "id": "6ce9414b-bcc4-4e01-9ce9-7d7b54c3b503",
   "metadata": {},
   "outputs": [
    {
     "data": {
      "text/html": [
       "<div>\n",
       "<style scoped>\n",
       "    .dataframe tbody tr th:only-of-type {\n",
       "        vertical-align: middle;\n",
       "    }\n",
       "\n",
       "    .dataframe tbody tr th {\n",
       "        vertical-align: top;\n",
       "    }\n",
       "\n",
       "    .dataframe thead th {\n",
       "        text-align: right;\n",
       "    }\n",
       "</style>\n",
       "<table border=\"1\" class=\"dataframe\">\n",
       "  <thead>\n",
       "    <tr style=\"text-align: right;\">\n",
       "      <th></th>\n",
       "      <th>0</th>\n",
       "      <th>1</th>\n",
       "      <th>2</th>\n",
       "      <th>3</th>\n",
       "      <th>4</th>\n",
       "    </tr>\n",
       "  </thead>\n",
       "  <tbody>\n",
       "    <tr>\n",
       "      <th>0</th>\n",
       "      <td>-1.720542</td>\n",
       "      <td>-0.900681</td>\n",
       "      <td>1.032057</td>\n",
       "      <td>-1.341272</td>\n",
       "      <td>-1.312977</td>\n",
       "    </tr>\n",
       "    <tr>\n",
       "      <th>1</th>\n",
       "      <td>-1.697448</td>\n",
       "      <td>-1.143017</td>\n",
       "      <td>-0.124958</td>\n",
       "      <td>-1.341272</td>\n",
       "      <td>-1.312977</td>\n",
       "    </tr>\n",
       "    <tr>\n",
       "      <th>2</th>\n",
       "      <td>-1.674353</td>\n",
       "      <td>-1.385353</td>\n",
       "      <td>0.337848</td>\n",
       "      <td>-1.398138</td>\n",
       "      <td>-1.312977</td>\n",
       "    </tr>\n",
       "    <tr>\n",
       "      <th>3</th>\n",
       "      <td>-1.651258</td>\n",
       "      <td>-1.506521</td>\n",
       "      <td>0.106445</td>\n",
       "      <td>-1.284407</td>\n",
       "      <td>-1.312977</td>\n",
       "    </tr>\n",
       "    <tr>\n",
       "      <th>4</th>\n",
       "      <td>-1.628164</td>\n",
       "      <td>-1.021849</td>\n",
       "      <td>1.263460</td>\n",
       "      <td>-1.341272</td>\n",
       "      <td>-1.312977</td>\n",
       "    </tr>\n",
       "  </tbody>\n",
       "</table>\n",
       "</div>"
      ],
      "text/plain": [
       "          0         1         2         3         4\n",
       "0 -1.720542 -0.900681  1.032057 -1.341272 -1.312977\n",
       "1 -1.697448 -1.143017 -0.124958 -1.341272 -1.312977\n",
       "2 -1.674353 -1.385353  0.337848 -1.398138 -1.312977\n",
       "3 -1.651258 -1.506521  0.106445 -1.284407 -1.312977\n",
       "4 -1.628164 -1.021849  1.263460 -1.341272 -1.312977"
      ]
     },
     "execution_count": 8,
     "metadata": {},
     "output_type": "execute_result"
    }
   ],
   "source": [
    "X_processed = preprocessor.fit_transform(X)\n",
    "# Converting to df\n",
    "X_processed_df = pd.DataFrame(X_processed.toarray() if hasattr(X_processed, \"toarray\") else X_processed)\n",
    "X_processed_df.head()"
   ]
  },
  {
   "cell_type": "markdown",
   "id": "ad17bb9c-4f9f-47b5-8629-fbc3e6a0ff9e",
   "metadata": {},
   "source": [
    "Step 7:- Save processed data and pipeline"
   ]
  },
  {
   "cell_type": "code",
   "execution_count": 9,
   "id": "e07c7ad7-c477-4f1a-b958-f1ea79ec894e",
   "metadata": {},
   "outputs": [
    {
     "name": "stdout",
     "output_type": "stream",
     "text": [
      "✅ ETL pipeline completed and files saved!\n"
     ]
    }
   ],
   "source": [
    "X_processed_df.to_csv(\"iris_processed_features.csv\", index=False)\n",
    "y.to_csv(\"iris_target.csv\", index=False)\n",
    "\n",
    "# Saving the preprocessor\n",
    "joblib.dump(preprocessor, \"iris_preprocessor.pkl\")\n",
    "\n",
    "print(\"✅ ETL pipeline completed and files saved!\")"
   ]
  }
 ],
 "metadata": {
  "kernelspec": {
   "display_name": "Python 3 (ipykernel)",
   "language": "python",
   "name": "python3"
  },
  "language_info": {
   "codemirror_mode": {
    "name": "ipython",
    "version": 3
   },
   "file_extension": ".py",
   "mimetype": "text/x-python",
   "name": "python",
   "nbconvert_exporter": "python",
   "pygments_lexer": "ipython3",
   "version": "3.12.7"
  }
 },
 "nbformat": 4,
 "nbformat_minor": 5
}
